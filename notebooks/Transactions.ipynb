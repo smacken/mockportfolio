{
 "cells": [
  {
   "cell_type": "code",
   "execution_count": 3,
   "metadata": {},
   "outputs": [],
   "source": [
    "%reload_ext autoreload\n",
    "\n",
    "%autoreload 2\n",
    "import sys\n",
    "# sys.path.append('../mockportfolio/')\n",
    "sys.path.append('../')\n",
    "data_path = '../data/'\n",
    "from mockportfolio import Holdings, Prices, Transactions\n",
    "holdings = Holdings(data_path)\n",
    "prices = Prices(data_path)\n",
    "transactions = Transactions(data_path)"
   ]
  },
  {
   "cell_type": "code",
   "execution_count": 6,
   "metadata": {},
   "outputs": [
    {
     "name": "stdout",
     "output_type": "stream",
     "text": [
      "SYR.ax [2019, 6, 1] [2019, 10, 22]\n",
      "new  SYR.ax\n",
      "AJQ.ax [2019, 6, 1] [2019, 10, 22]\n",
      "new  AJQ.ax\n",
      "HNR.ax [2019, 6, 1] [2019, 10, 22]\n",
      "new  HNR.ax\n",
      "SEC.ax [2019, 6, 1] [2019, 10, 22]\n",
      "new  SEC.ax\n",
      "AGI.ax [2019, 6, 1] [2019, 10, 22]\n",
      "new  AGI.ax\n",
      "OOK.ax [2019, 6, 1] [2019, 10, 22]\n",
      "new  OOK.ax\n",
      "SRO.ax [2019, 6, 1] [2019, 10, 22]\n",
      "new  SRO.ax\n",
      "EOF.ax [2019, 6, 1] [2019, 10, 22]\n",
      "new  EOF.ax\n",
      "ESE.ax [2019, 6, 1] [2019, 10, 22]\n",
      "new  ESE.ax\n",
      "IAM.ax [2019, 6, 1] [2019, 10, 22]\n",
      "new  IAM.ax\n",
      "0 out of 6 tickers were removed\n",
      "1 out of 9 tickers were removed\n",
      "0 out of 9 tickers were removed\n",
      "0 out of 8 tickers were removed\n",
      "0 out of 8 tickers were removed\n"
     ]
    },
    {
     "data": {
      "text/plain": [
       "{'2019-07-01': {'AJQ': 20934,\n",
       "  'EOF': 604,\n",
       "  'IAM': 1333332,\n",
       "  'OOK': 90909,\n",
       "  'SEC': 753,\n",
       "  'SRO': 1999981},\n",
       " '2019-08-01': {'AGI': 707,\n",
       "  'AJQ': 5281,\n",
       "  'EOF': 625,\n",
       "  'ESE': 80000,\n",
       "  'IAM': 816600,\n",
       "  'OOK': 41919,\n",
       "  'SEC': 878,\n",
       "  'SRO': 1260800},\n",
       " '2019-09-02': {'AGI': 896,\n",
       "  'AJQ': 2398,\n",
       "  'EOF': 660,\n",
       "  'ESE': 58540,\n",
       "  'HNR': 79177,\n",
       "  'IAM': 1314293,\n",
       "  'OOK': 44445,\n",
       "  'SEC': 676,\n",
       "  'SRO': 1614900},\n",
       " '2019-10-01': {'AGI': 1852,\n",
       "  'EOF': 658,\n",
       "  'ESE': 6472,\n",
       "  'HNR': 75620,\n",
       "  'IAM': 1215500,\n",
       "  'OOK': 45052,\n",
       "  'SEC': 827,\n",
       "  'SRO': 1333320},\n",
       " '2019-10-21': {'AGI': 1805,\n",
       "  'AJQ': 16235,\n",
       "  'EOF': 619,\n",
       "  'HNR': 70060,\n",
       "  'IAM': 1149300,\n",
       "  'OOK': 35060,\n",
       "  'SEC': 537,\n",
       "  'SRO': 758880}}"
      ]
     },
     "execution_count": 6,
     "metadata": {},
     "output_type": "execute_result"
    }
   ],
   "source": [
    "total = 10000\n",
    "start = '2019-06-01'\n",
    "end = '2019-10-21'\n",
    "holding_sheet = holdings.generate(total, start, end)\n",
    "holding_sheet"
   ]
  },
  {
   "cell_type": "code",
   "execution_count": 8,
   "metadata": {},
   "outputs": [],
   "source": [
    "price_data = prices.get_prices()\n"
   ]
  },
  {
   "cell_type": "code",
   "execution_count": 32,
   "metadata": {},
   "outputs": [
    {
     "name": "stdout",
     "output_type": "stream",
     "text": [
      "AJQ 0.067 0 0.067\n",
      "EOF 2.1 0 2.1\n",
      "IAM 0.0015 0 0.002\n",
      "OOK 0.022 0 0.022\n",
      "SEC 1.765 0 1.765\n",
      "SRO 0.001 0 0.001\n",
      "2019-07-01 10000.0\n",
      "AGI 0.73 0 0.73\n",
      "AJQ 0.066 0.067 0.001\n",
      "EOF 3.2 2.1 1.1\n"
     ]
    },
    {
     "data": {
      "text/plain": [
       "Date         2019-08-01\n",
       "Open              0.026\n",
       "High              0.026\n",
       "Low               0.025\n",
       "Close             0.025\n",
       "Adj Close         0.025\n",
       "Volume           802326\n",
       "Tick                ESE\n",
       "Name: 30373, dtype: object"
      ]
     },
     "metadata": {},
     "output_type": "display_data"
    },
    {
     "name": "stdout",
     "output_type": "stream",
     "text": [
      "ESE 0.025 0 0.025\n",
      "IAM 0.0015 0.0015 0.0\n",
      "OOK 0.022 0.022 0.0\n",
      "SEC 1.88 1.765 0.115\n",
      "SRO 0.001 0.001 0.0\n",
      "2019-08-01 9923.22\n",
      "AGI 0.725 0.73 0.005\n",
      "AJQ 0.065 0.066 0.001\n",
      "EOF 3.03 3.2 0.17\n"
     ]
    },
    {
     "data": {
      "text/plain": [
       "Date          2019-09-02\n",
       "Open               0.023\n",
       "High               0.023\n",
       "Low                0.022\n",
       "Close              0.022\n",
       "Adj Close          0.022\n",
       "Volume       3.06763e+06\n",
       "Tick                 ESE\n",
       "Name: 30395, dtype: object"
      ]
     },
     "metadata": {},
     "output_type": "display_data"
    },
    {
     "name": "stdout",
     "output_type": "stream",
     "text": [
      "ESE 0.022 0.025 0.003\n",
      "HNR 0.011 0 0.011\n",
      "IAM 0.001 0.0015 0.0\n",
      "OOK 0.022 0.022 0.0\n",
      "SEC 1.67 1.88 0.21\n",
      "SRO 0.001 0.001 0.0\n",
      "2019-09-02 10000.0\n",
      "AGI 0.775 0.725 0.05\n",
      "EOF 3.04 3.03 0.01\n"
     ]
    },
    {
     "data": {
      "text/plain": [
       "Date         2019-10-01\n",
       "Open                NaN\n",
       "High                NaN\n",
       "Low                 NaN\n",
       "Close               NaN\n",
       "Adj Close           NaN\n",
       "Volume              NaN\n",
       "Tick                ESE\n",
       "Name: 30416, dtype: object"
      ]
     },
     "metadata": {},
     "output_type": "display_data"
    },
    {
     "name": "stdout",
     "output_type": "stream",
     "text": [
      "ESE nan 0.022 nan\n",
      "HNR 0.0105 0.011 0.0\n",
      "IAM 0.001 0.001 0.0\n",
      "OOK 0.022 0.022 0.0\n",
      "SEC 1.75 1.67 0.08\n",
      "SRO 0.0015 0.001 0.0\n",
      "2019-10-01 nan\n",
      "AGI 0.825 0.775 0.05\n",
      "AJQ 0.067 0.065 0.002\n",
      "EOF 3.23 3.04 0.19\n",
      "HNR 0.01 0.0105 0.001\n",
      "IAM 0.001 0.001 0.0\n",
      "OOK 0.022 0.022 0.0\n",
      "SRO 0.0025 0.0015 0.001\n",
      "2019-10-21 9094.66\n"
     ]
    }
   ],
   "source": [
    "holding = {}\n",
    "\n",
    "for month in holding_sheet.keys():\n",
    "    ticks = holding_sheet[month]\n",
    "    remainder = 0\n",
    "    month_total = 0\n",
    "    month_prices = price_data[price_data.Date == month]\n",
    "    for tick in ticks:\n",
    "        amnt = ticks[tick]\n",
    "        #print(tick)\n",
    "        #print('tick', tick, ticks[tick])\n",
    "        #display(month_prices[month_prices.Tick == tick])\n",
    "        prices = month_prices[month_prices.Tick == tick]\n",
    "        # todo: no prices for day\n",
    "        # todo: nan for close price\n",
    "        if prices.empty:\n",
    "            continue\n",
    "        tick_prices = prices.iloc[0]\n",
    "        if tick == 'ESE':\n",
    "            display(tick_prices)\n",
    "        current = holding[tick] if tick in holding else 0\n",
    "        holding[tick] = tick_prices.Close\n",
    "        month_total += round(amnt * tick_prices.Close, 2)\n",
    "        diff = round(abs(current - holding[tick]), 3)\n",
    "        print(tick, tick_prices.Close, current, diff)\n",
    "        #if diff > 0:\n",
    "\n",
    "    print(month, month_total)\n",
    "            "
   ]
  },
  {
   "cell_type": "code",
   "execution_count": null,
   "metadata": {},
   "outputs": [],
   "source": []
  }
 ],
 "metadata": {
  "kernelspec": {
   "display_name": "Python 3",
   "language": "python",
   "name": "python3"
  },
  "language_info": {
   "codemirror_mode": {
    "name": "ipython",
    "version": 3
   },
   "file_extension": ".py",
   "mimetype": "text/x-python",
   "name": "python",
   "nbconvert_exporter": "python",
   "pygments_lexer": "ipython3",
   "version": "3.7.3"
  }
 },
 "nbformat": 4,
 "nbformat_minor": 2
}
